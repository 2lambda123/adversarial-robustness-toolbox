{
 "cells": [
  {
   "cell_type": "code",
   "execution_count": 14,
   "metadata": {},
   "outputs": [],
   "source": [
    "import os\n",
    "import sys\n",
    "sys.path.insert(0, os.path.abspath('..'))\n",
    "\n",
    "import numpy as np\n",
    "\n",
    "from art.metrics import PDTP, SHAPr\n",
    "from art.utils import load_nursery\n",
    "\n",
    "from sklearn.ensemble import RandomForestClassifier\n",
    "from sklearn.tree import DecisionTreeClassifier\n",
    "from art.estimators.classification.scikitlearn import ScikitlearnRandomForestClassifier, ScikitlearnDecisionTreeClassifier\n",
    "\n",
    "(x_train, y_train), (x_test, y_test), _, _ = load_nursery(test_set=0.5)\n",
    "\n",
    "model = RandomForestClassifier()\n",
    "model.fit(x_train, y_train)\n",
    "extra_model = RandomForestClassifier()\n",
    "\n",
    "art_classifier = ScikitlearnRandomForestClassifier(model)\n",
    "extra_classifier = ScikitlearnRandomForestClassifier(extra_model)\n",
    "\n",
    "num_samples = 100"
   ]
  },
  {
   "cell_type": "code",
   "execution_count": 15,
   "metadata": {},
   "outputs": [
    {
     "name": "stdout",
     "output_type": "stream",
     "text": [
      "Average PDTP leakage random forest:  1.253083866954058\n",
      "Max PDTP leakage random forest:  1.5488378571018933\n"
     ]
    }
   ],
   "source": [
    "indexes = np.array(range(num_samples))\n",
    "leakage = PDTP(art_classifier, extra_classifier, x_train, y_train, indexes=indexes)\n",
    "\n",
    "print(\"Average PDTP leakage random forest: \", np.average(leakage))\n",
    "print(\"Max PDTP leakage random forest: \", np.max(leakage))"
   ]
  },
  {
   "cell_type": "code",
   "execution_count": 16,
   "metadata": {},
   "outputs": [],
   "source": [
    "model2 = DecisionTreeClassifier()\n",
    "model2.fit(x_train, y_train)\n",
    "extra_model2 = DecisionTreeClassifier()\n",
    "\n",
    "art_classifier2 = ScikitlearnDecisionTreeClassifier(model2)\n",
    "extra_classifier2 = ScikitlearnDecisionTreeClassifier(extra_model2)"
   ]
  },
  {
   "cell_type": "code",
   "execution_count": 17,
   "metadata": {},
   "outputs": [
    {
     "name": "stdout",
     "output_type": "stream",
     "text": [
      "Average PDTP leakage decision tree:  1.0\n",
      "Max PDTP leakage decision tree:  1.0\n"
     ]
    }
   ],
   "source": [
    "leakage2 = PDTP(art_classifier2, extra_classifier2, x_train, y_train, indexes=indexes, num_iter=1)\n",
    "print(\"Average PDTP leakage decision tree: \", np.average(leakage2))\n",
    "print(\"Max PDTP leakage decision tree: \", np.max(leakage2))"
   ]
  },
  {
   "cell_type": "code",
   "execution_count": 18,
   "metadata": {},
   "outputs": [
    {
     "name": "stdout",
     "output_type": "stream",
     "text": [
      "Average SHAPr leakage random forest:  0.9742204384069146\n",
      "Max SHAPr leakage random forest:  1.3662636141580258\n",
      "Average PDTP leakage decision tree:  0.981167026860142\n",
      "Max PDTP leakage decision tree:  1.0039066397894296\n"
     ]
    }
   ],
   "source": [
    "SHAPr_leakage = SHAPr(art_classifier, x_train, y_train, x_test, y_test)\n",
    "print(\"Average SHAPr leakage random forest: \", np.average(SHAPr_leakage))\n",
    "print(\"Max SHAPr leakage random forest: \", np.max(SHAPr_leakage))\n",
    "\n",
    "SHAPr_leakage2 = SHAPr(art_classifier2, x_train, y_train, x_test, y_test)\n",
    "\n",
    "print(\"Average PDTP leakage decision tree: \", np.average(SHAPr_leakage2))\n",
    "print(\"Max PDTP leakage decision tree: \", np.max(SHAPr_leakage2))"
   ]
  },
  {
   "cell_type": "code",
   "execution_count": 33,
   "metadata": {},
   "outputs": [
    {
     "name": "stdout",
     "output_type": "stream",
     "text": [
      "decision tree: max leakage  18 0\n",
      "decision tree: top 10 leakage  [ 3 18 28 35 42 45 52 57 58 75] [26 27 29 30 31 32 33 34 35 99]\n",
      "random forest: max leakage  38 32\n",
      "random forest: top 10 leakage  [ 8 10 19 27 38 47 52 58 75 76] [17 21 22 32 38 48 66 72 81 92]\n",
      "decision tree, indexes with highest score:\n",
      "shap:\n",
      "[[18]\n",
      " [35]\n",
      " [52]]\n",
      "pdtp:\n",
      "[[ 0]\n",
      " [ 1]\n",
      " [ 2]\n",
      " [ 3]\n",
      " [ 4]\n",
      " [ 5]\n",
      " [ 6]\n",
      " [ 7]\n",
      " [ 8]\n",
      " [ 9]\n",
      " [10]\n",
      " [11]\n",
      " [12]\n",
      " [13]\n",
      " [14]\n",
      " [15]\n",
      " [16]\n",
      " [17]\n",
      " [18]\n",
      " [19]\n",
      " [20]\n",
      " [21]\n",
      " [22]\n",
      " [23]\n",
      " [24]\n",
      " [25]\n",
      " [26]\n",
      " [27]\n",
      " [28]\n",
      " [29]\n",
      " [30]\n",
      " [31]\n",
      " [32]\n",
      " [33]\n",
      " [34]\n",
      " [35]\n",
      " [36]\n",
      " [37]\n",
      " [38]\n",
      " [39]\n",
      " [40]\n",
      " [41]\n",
      " [42]\n",
      " [43]\n",
      " [44]\n",
      " [45]\n",
      " [46]\n",
      " [47]\n",
      " [48]\n",
      " [49]\n",
      " [50]\n",
      " [51]\n",
      " [52]\n",
      " [53]\n",
      " [54]\n",
      " [55]\n",
      " [56]\n",
      " [57]\n",
      " [58]\n",
      " [59]\n",
      " [60]\n",
      " [61]\n",
      " [62]\n",
      " [63]\n",
      " [64]\n",
      " [65]\n",
      " [66]\n",
      " [67]\n",
      " [68]\n",
      " [69]\n",
      " [70]\n",
      " [71]\n",
      " [72]\n",
      " [73]\n",
      " [74]\n",
      " [75]\n",
      " [76]\n",
      " [77]\n",
      " [78]\n",
      " [79]\n",
      " [80]\n",
      " [81]\n",
      " [82]\n",
      " [83]\n",
      " [84]\n",
      " [85]\n",
      " [86]\n",
      " [87]\n",
      " [88]\n",
      " [89]\n",
      " [90]\n",
      " [91]\n",
      " [92]\n",
      " [93]\n",
      " [94]\n",
      " [95]\n",
      " [96]\n",
      " [97]\n",
      " [98]\n",
      " [99]]\n",
      "roandom forest, indexes with highest score:\n",
      "shap:\n",
      "[[38]]\n",
      "pdtp:\n",
      "[[32]]\n"
     ]
    }
   ],
   "source": [
    "top = 10\n",
    "\n",
    "SHAPr_leakage2_short = SHAPr_leakage2[:num_samples]\n",
    "SHAPr_leakage_short = SHAPr_leakage[:num_samples]\n",
    "\n",
    "highest_SHAPr_dt = np.argmax(SHAPr_leakage2_short)\n",
    "highest_PDTP_dt = np.argmax(leakage2)\n",
    "print('decision tree: max leakage ', highest_SHAPr_dt, highest_PDTP_dt)\n",
    "top_SHAPr_dt = np.argpartition(SHAPr_leakage2_short, -top)[-top:]\n",
    "top_PDTP_dt = np.argpartition(leakage2, -top)[-top:]\n",
    "print('decision tree: top 10 leakage ', np.sort(top_SHAPr_dt), np.sort(top_PDTP_dt))\n",
    "\n",
    "highest_SHAPr_rf = np.argmax(SHAPr_leakage_short)\n",
    "highest_PDTP_rf = np.argmax(leakage)\n",
    "print('random forest: max leakage ', highest_SHAPr_rf, highest_PDTP_rf)\n",
    "top_SHAPr_rf = np.argpartition(SHAPr_leakage_short, -top)[-top:]\n",
    "top_PDTP_rf = np.argpartition(leakage, -top)[-top:]\n",
    "print('random forest: top 10 leakage ', np.sort(top_SHAPr_rf), np.sort(top_PDTP_rf))\n",
    "\n",
    "print('decision tree, indexes with highest score:')\n",
    "highest_val_SHAPr_dt2 = np.max(SHAPr_leakage2_short)\n",
    "highest_indexes_shap2 = np.argwhere(SHAPr_leakage2_short == highest_val_SHAPr_dt2)\n",
    "print('shap:')\n",
    "print(highest_indexes_shap2)\n",
    "highest_val_PDTP_dt2 = np.max(leakage2)\n",
    "highest_indexes2 = np.argwhere(leakage2 == highest_val_PDTP_dt2)\n",
    "print('pdtp:')\n",
    "print(highest_indexes2)\n",
    "\n",
    "print('random forest, indexes with highest score:')\n",
    "highest_val_SHAPr_dt = np.max(SHAPr_leakage_short)\n",
    "highest_indexes_shap = np.argwhere(SHAPr_leakage_short == highest_val_SHAPr_dt)\n",
    "print('shap:')\n",
    "print(highest_indexes_shap)\n",
    "highest_val_PDTP_dt = np.max(leakage)\n",
    "highest_indexes = np.argwhere(leakage == highest_val_PDTP_dt)\n",
    "print('pdtp:')\n",
    "print(highest_indexes)"
   ]
  },
  {
   "cell_type": "code",
   "execution_count": 27,
   "metadata": {},
   "outputs": [
    {
     "name": "stderr",
     "output_type": "stream",
     "text": [
      "<ipython-input-27-c3460e3f12be>:3: UserWarning: In Matplotlib 3.3 individual lines on a stem plot will be added as a LineCollection instead of individual lines. This significantly improves the performance of a stem plot. To remove this warning and switch to the new behaviour, set the \"use_line_collection\" keyword argument to True.\n",
      "  plt.stem(range(20), SHAPr_leakage_short[:20], label=\"shap\")\n"
     ]
    },
    {
     "data": {
      "image/png": "[encoded data removed]",
      "text/plain": [
       "<Figure size 432x288 with 1 Axes>"
      ]
     },
     "metadata": {
      "needs_background": "light"
     },
     "output_type": "display_data"
    }
   ],
   "source": [
    "import matplotlib.pyplot as plt\n",
    "\n",
    "plt.stem(range(20), SHAPr_leakage_short[:20], label=\"shap\")\n",
    "plt.xticks(range(20))\n",
    "plt.ylim(0.9, 1.1)\n",
    "plt.show()"
   ]
  },
  {
   "cell_type": "code",
   "execution_count": 28,
   "metadata": {},
   "outputs": [
    {
     "name": "stderr",
     "output_type": "stream",
     "text": [
      "<ipython-input-28-3de39bf3e8ed>:1: UserWarning: In Matplotlib 3.3 individual lines on a stem plot will be added as a LineCollection instead of individual lines. This significantly improves the performance of a stem plot. To remove this warning and switch to the new behaviour, set the \"use_line_collection\" keyword argument to True.\n",
      "  plt.stem(range(20), leakage[:20], label=\"pdtp\")\n"
     ]
    },
    {
     "data": {
      "image/png": "[encoded data removed]",
      "text/plain": [
       "<Figure size 432x288 with 1 Axes>"
      ]
     },
     "metadata": {
      "needs_background": "light"
     },
     "output_type": "display_data"
    }
   ],
   "source": [
    "plt.stem(range(20), leakage[:20], label=\"pdtp\")\n",
    "plt.xticks(range(20))\n",
    "plt.ylim(1.2, 1.3)\n",
    "plt.show()"
   ]
  },
  {
   "cell_type": "code",
   "execution_count": 30,
   "metadata": {},
   "outputs": [
    {
     "name": "stderr",
     "output_type": "stream",
     "text": [
      "<ipython-input-30-15e4b289e6be>:1: UserWarning: In Matplotlib 3.3 individual lines on a stem plot will be added as a LineCollection instead of individual lines. This significantly improves the performance of a stem plot. To remove this warning and switch to the new behaviour, set the \"use_line_collection\" keyword argument to True.\n",
      "  plt.stem(range(20), SHAPr_leakage2_short[:20], label=\"shap\")\n"
     ]
    },
    {
     "data": {
      "image/png": "[encoded data removed]",
      "text/plain": [
       "<Figure size 432x288 with 1 Axes>"
      ]
     },
     "metadata": {
      "needs_background": "light"
     },
     "output_type": "display_data"
    }
   ],
   "source": [
    "plt.stem(range(20), SHAPr_leakage2_short[:20], label=\"shap\")\n",
    "plt.xticks(range(20))\n",
    "plt.ylim(0.9, 1.1)\n",
    "plt.show()"
   ]
  },
  {
   "cell_type": "code",
   "execution_count": 31,
   "metadata": {},
   "outputs": [
    {
     "name": "stderr",
     "output_type": "stream",
     "text": [
      "<ipython-input-31-b1cd98eb8c3c>:1: UserWarning: In Matplotlib 3.3 individual lines on a stem plot will be added as a LineCollection instead of individual lines. This significantly improves the performance of a stem plot. To remove this warning and switch to the new behaviour, set the \"use_line_collection\" keyword argument to True.\n",
      "  plt.stem(range(20), leakage2[:20], label=\"pdtp\")\n"
     ]
    },
    {
     "data": {
      "image/png": "[encoded data removed]",
      "text/plain": [
       "<Figure size 432x288 with 1 Axes>"
      ]
     },
     "metadata": {
      "needs_background": "light"
     },
     "output_type": "display_data"
    }
   ],
   "source": [
    "plt.stem(range(20), leakage2[:20], label=\"pdtp\")\n",
    "plt.xticks(range(20))\n",
    "plt.ylim(0.8, 1.1)\n",
    "plt.show()"
   ]
  },
  {
   "cell_type": "code",
   "execution_count": 34,
   "metadata": {},
   "outputs": [
    {
     "name": "stdout",
     "output_type": "stream",
     "text": [
      "0.7242976227230626\n",
      "0.6035813522692188\n",
      "0.6639394874961407\n"
     ]
    }
   ],
   "source": [
    "from art.attacks.inference.membership_inference import MembershipInferenceBlackBox\n",
    "\n",
    "attack_train_ratio = 0.5\n",
    "attack_train_size = int(len(x_train) * attack_train_ratio)\n",
    "attack_test_size = int(len(x_test) * attack_train_ratio)\n",
    "\n",
    "# random forest\n",
    "bb_attack = MembershipInferenceBlackBox(art_classifier)\n",
    "\n",
    "# train attack model\n",
    "bb_attack.fit(x_train[attack_train_size:], y_train[attack_train_size:],\n",
    "              x_test[attack_test_size:], y_test[attack_test_size:])\n",
    "\n",
    "# get inferred values\n",
    "inferred_train_bb = bb_attack.infer(x_train[:attack_train_size], y_train[:attack_train_size])\n",
    "inferred_test_bb = bb_attack.infer(x_test[:attack_test_size], y_test[:attack_test_size])\n",
    "# check accuracy\n",
    "train_acc = np.sum(inferred_train_bb) / len(inferred_train_bb)\n",
    "test_acc = 1 - (np.sum(inferred_test_bb) / len(inferred_test_bb))\n",
    "acc = (train_acc * len(inferred_train_bb) + test_acc * len(inferred_test_bb)) / (len(inferred_train_bb) + len(inferred_test_bb))\n",
    "print(train_acc)\n",
    "print(test_acc)\n",
    "print(acc)"
   ]
  },
  {
   "cell_type": "code",
   "execution_count": 35,
   "metadata": {},
   "outputs": [
    {
     "name": "stderr",
     "output_type": "stream",
     "text": [
      "<ipython-input-35-cae04235fd2d>:1: UserWarning: In Matplotlib 3.3 individual lines on a stem plot will be added as a LineCollection instead of individual lines. This significantly improves the performance of a stem plot. To remove this warning and switch to the new behaviour, set the \"use_line_collection\" keyword argument to True.\n",
      "  plt.stem(range(20), inferred_train_bb[:20], label=\"mem\")\n"
     ]
    },
    {
     "data": {
      "image/png": "[encoded data removed]",
      "text/plain": [
       "<Figure size 432x288 with 1 Axes>"
      ]
     },
     "metadata": {
      "needs_background": "light"
     },
     "output_type": "display_data"
    }
   ],
   "source": [
    "plt.stem(range(20), inferred_train_bb[:20], label=\"mem\")\n",
    "plt.xticks(range(20))\n",
    "plt.ylim(0, 1)\n",
    "plt.show()"
   ]
  },
  {
   "cell_type": "code",
   "execution_count": 36,
   "metadata": {},
   "outputs": [
    {
     "name": "stdout",
     "output_type": "stream",
     "text": [
      "0.6384686631676443\n",
      "0.35473911701142324\n",
      "0.4966038900895338\n"
     ]
    }
   ],
   "source": [
    "# decision tree\n",
    "bb_attack2 = MembershipInferenceBlackBox(art_classifier2)\n",
    "\n",
    "# train attack model\n",
    "bb_attack2.fit(x_train[attack_train_size:], y_train[attack_train_size:],\n",
    "              x_test[attack_test_size:], y_test[attack_test_size:])\n",
    "\n",
    "# get inferred values\n",
    "inferred_train_bb2 = bb_attack2.infer(x_train[:attack_train_size], y_train[:attack_train_size])\n",
    "inferred_test_bb2 = bb_attack2.infer(x_test[:attack_test_size], y_test[:attack_test_size])\n",
    "\n",
    "# check accuracy\n",
    "train_acc2 = np.sum(inferred_train_bb2) / len(inferred_train_bb2)\n",
    "test_acc2 = 1 - (np.sum(inferred_test_bb2) / len(inferred_test_bb2))\n",
    "acc2 = (train_acc2 * len(inferred_train_bb2) + test_acc2 * len(inferred_test_bb2)) / (len(inferred_train_bb2) + len(inferred_test_bb2))\n",
    "print(train_acc2)\n",
    "print(test_acc2)\n",
    "print(acc2)"
   ]
  },
  {
   "cell_type": "code",
   "execution_count": 43,
   "metadata": {},
   "outputs": [
    {
     "name": "stdout",
     "output_type": "stream",
     "text": [
      "              precision    recall  f1-score   support\n",
      "\n",
      "         0.0       0.00      0.00      0.00         0\n",
      "         1.0       1.00      0.64      0.78      3239\n",
      "\n",
      "    accuracy                           0.64      3239\n",
      "   macro avg       0.50      0.32      0.39      3239\n",
      "weighted avg       1.00      0.64      0.78      3239\n",
      "\n",
      "              precision    recall  f1-score   support\n",
      "\n",
      "         0.0       1.00      0.35      0.52      3239\n",
      "         1.0       0.00      0.00      0.00         0\n",
      "\n",
      "    accuracy                           0.35      3239\n",
      "   macro avg       0.50      0.18      0.26      3239\n",
      "weighted avg       1.00      0.35      0.52      3239\n",
      "\n"
     ]
    }
   ],
   "source": [
    "from sklearn.metrics import classification_report\n",
    "print(classification_report(y_true = np.ones(inferred_train_bb2.shape), y_pred = inferred_train_bb2))\n",
    "print(classification_report(y_true = np.zeros(inferred_train_bb2.shape), y_pred = inferred_test_bb2))"
   ]
  },
  {
   "cell_type": "code",
   "execution_count": 40,
   "metadata": {},
   "outputs": [],
   "source": [
    "inferred_train_bb2_prob = bb_attack2.infer(x_train[:attack_train_size], y_train[:attack_train_size], probabilities=True)"
   ]
  },
  {
   "cell_type": "code",
   "execution_count": 38,
   "metadata": {},
   "outputs": [
    {
     "name": "stderr",
     "output_type": "stream",
     "text": [
      "<ipython-input-38-cc71f72e89a9>:1: UserWarning: In Matplotlib 3.3 individual lines on a stem plot will be added as a LineCollection instead of individual lines. This significantly improves the performance of a stem plot. To remove this warning and switch to the new behaviour, set the \"use_line_collection\" keyword argument to True.\n",
      "  plt.stem(range(20), inferred_train_bb2[:20], label=\"mem\")\n"
     ]
    },
    {
     "data": {
      "image/png": "[encoded data removed]",
      "text/plain": [
       "<Figure size 432x288 with 1 Axes>"
      ]
     },
     "metadata": {
      "needs_background": "light"
     },
     "output_type": "display_data"
    }
   ],
   "source": [
    "plt.stem(range(20), inferred_train_bb2[:20], label=\"mem\")\n",
    "plt.xticks(range(20))\n",
    "plt.ylim(0, 1)\n",
    "plt.show()"
   ]
  },
  {
   "cell_type": "code",
   "execution_count": 39,
   "metadata": {},
   "outputs": [
    {
     "name": "stdout",
     "output_type": "stream",
     "text": [
      "(nan, nan)\n",
      "(-0.17101179901538482, 0.08891040649889734)\n"
     ]
    },
    {
     "name": "stderr",
     "output_type": "stream",
     "text": [
      "/Users/abigailt/opt/anaconda3/lib/python3.8/site-packages/scipy/stats/stats.py:3913: PearsonRConstantInputWarning: An input array is constant; the correlation coefficent is not defined.\n",
      "  warnings.warn(PearsonRConstantInputWarning())\n"
     ]
    }
   ],
   "source": [
    "import scipy\n",
    "\n",
    "print(scipy.stats.pearsonr(SHAPr_leakage2_short, leakage2))\n",
    "print(scipy.stats.pearsonr(SHAPr_leakage_short, leakage))"
   ]
  },
  {
   "cell_type": "code",
   "execution_count": null,
   "metadata": {},
   "outputs": [],
   "source": []
  }
 ],
 "metadata": {
  "kernelspec": {
   "display_name": "Python 3",
   "language": "python",
   "name": "python3"
  },
  "language_info": {
   "codemirror_mode": {
    "name": "ipython",
    "version": 3
   },
   "file_extension": ".py",
   "mimetype": "text/x-python",
   "name": "python",
   "nbconvert_exporter": "python",
   "pygments_lexer": "ipython3",
   "version": "3.8.3"
  }
 },
 "nbformat": 4,
 "nbformat_minor": 4
}
