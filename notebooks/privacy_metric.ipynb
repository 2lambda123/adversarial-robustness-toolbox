{
 "cells": [
  {
   "cell_type": "code",
   "execution_count": 1,
   "metadata": {},
   "outputs": [],
   "source": [
    "import os\n",
    "import sys\n",
    "sys.path.insert(0, os.path.abspath('..'))\n",
    "\n",
    "import numpy as np\n",
    "\n",
    "from art.metrics import PDTP, SHAPr\n",
    "from art.utils import load_nursery\n",
    "\n",
    "from sklearn.ensemble import RandomForestClassifier\n",
    "from sklearn.tree import DecisionTreeClassifier\n",
    "from art.estimators.classification.scikitlearn import ScikitlearnRandomForestClassifier, ScikitlearnDecisionTreeClassifier\n",
    "\n",
    "(x_train, y_train), (x_test, y_test), _, _ = load_nursery(test_set=0.8)\n",
    "\n",
    "model = RandomForestClassifier()\n",
    "model.fit(x_train, y_train)\n",
    "extra_model = RandomForestClassifier()\n",
    "\n",
    "art_classifier = ScikitlearnRandomForestClassifier(model)\n",
    "extra_classifier = ScikitlearnRandomForestClassifier(extra_model)\n",
    "\n",
    "num_samples = 100"
   ]
  },
  {
   "cell_type": "code",
   "execution_count": 2,
   "metadata": {},
   "outputs": [
    {
     "name": "stdout",
     "output_type": "stream",
     "text": [
      "Average PDTP leakage random forest:  1.2732808774212567\n",
      "Max PDTP leakage random forest:  1.7871883971684845\n"
     ]
    }
   ],
   "source": [
    "indexes = np.array(range(num_samples))\n",
    "leakage = PDTP(art_classifier, extra_classifier, x_train, y_train, indexes=indexes)\n",
    "\n",
    "print(\"Average PDTP leakage random forest: \", np.average(leakage))\n",
    "print(\"Max PDTP leakage random forest: \", np.max(leakage))"
   ]
  },
  {
   "cell_type": "code",
   "execution_count": 3,
   "metadata": {},
   "outputs": [],
   "source": [
    "model2 = DecisionTreeClassifier()\n",
    "model2.fit(x_train, y_train)\n",
    "extra_model2 = DecisionTreeClassifier()\n",
    "\n",
    "art_classifier2 = ScikitlearnDecisionTreeClassifier(model2)\n",
    "extra_classifier2 = ScikitlearnDecisionTreeClassifier(extra_model2)"
   ]
  },
  {
   "cell_type": "code",
   "execution_count": 4,
   "metadata": {},
   "outputs": [
    {
     "name": "stdout",
     "output_type": "stream",
     "text": [
      "Average PDTP leakage decision tree:  1.1371428571428572\n",
      "Max PDTP leakage decision tree:  2.7142857142857144\n"
     ]
    }
   ],
   "source": [
    "leakage2 = PDTP(art_classifier2, extra_classifier2, x_train, y_train, indexes=indexes, num_iter=1)\n",
    "print(\"Average PDTP leakage decision tree: \", np.average(leakage2))\n",
    "print(\"Max PDTP leakage decision tree: \", np.max(leakage2))"
   ]
  },
  {
   "cell_type": "code",
   "execution_count": 5,
   "metadata": {},
   "outputs": [
    {
     "name": "stdout",
     "output_type": "stream",
     "text": [
      "Average SHAPr leakage random forest:  0.06350663908967069\n",
      "Max SHAPr leakage random forest:  0.06666666666666832\n",
      "Average PDTP leakage decision tree:  0.1577371445891402\n",
      "Max PDTP leakage decision tree:  0.16089717216613722\n"
     ]
    }
   ],
   "source": [
    "SHAPr_leakage = SHAPr(art_classifier, x_train, y_train, x_test, y_test)\n",
    "print(\"Average SHAPr leakage random forest: \", np.average(SHAPr_leakage))\n",
    "print(\"Max SHAPr leakage random forest: \", np.max(SHAPr_leakage))\n",
    "\n",
    "SHAPr_leakage2 = SHAPr(art_classifier2, x_train, y_train, x_test, y_test)\n",
    "\n",
    "print(\"Average PDTP leakage decision tree: \", np.average(SHAPr_leakage2))\n",
    "print(\"Max PDTP leakage decision tree: \", np.max(SHAPr_leakage2))"
   ]
  },
  {
   "cell_type": "code",
   "execution_count": 16,
   "metadata": {},
   "outputs": [
    {
     "name": "stdout",
     "output_type": "stream",
     "text": [
      "decision tree: max leakage  8 2\n",
      "decision tree: top 10 leakage  [31 33 34 35 37 70 71 75 77 78] [ 2  6 32 33 38 52 63 64 74 76]\n",
      "random forest: max leakage  8 52\n",
      "random forest: top 10 leakage  [31 33 34 35 37 70 71 75 77 78] [ 4  6  9 32 38 52 63 74 76 95]\n",
      "[[ 8]\n",
      " [14]\n",
      " [17]\n",
      " [19]\n",
      " [21]\n",
      " [25]\n",
      " [27]\n",
      " [31]\n",
      " [33]\n",
      " [34]\n",
      " [35]\n",
      " [37]\n",
      " [41]\n",
      " [44]\n",
      " [45]\n",
      " [46]\n",
      " [51]\n",
      " [58]\n",
      " [62]\n",
      " [65]\n",
      " [68]\n",
      " [70]\n",
      " [71]\n",
      " [75]\n",
      " [77]\n",
      " [78]\n",
      " [85]\n",
      " [90]\n",
      " [93]\n",
      " [96]\n",
      " [97]]\n",
      "[[ 2]\n",
      " [ 6]\n",
      " [38]\n",
      " [52]\n",
      " [63]\n",
      " [64]\n",
      " [74]\n",
      " [76]]\n"
     ]
    }
   ],
   "source": [
    "top = 10\n",
    "\n",
    "SHAPr_leakage2_short = SHAPr_leakage2[:num_samples]\n",
    "SHAPr_leakage_short = SHAPr_leakage[:num_samples]\n",
    "\n",
    "highest_SHAPr_dt = np.argmax(SHAPr_leakage2_short)\n",
    "highest_PDTP_dt = np.argmax(leakage2)\n",
    "print('decision tree: max leakage ', highest_SHAPr_dt, highest_PDTP_dt)\n",
    "top_SHAPr_dt = np.argpartition(SHAPr_leakage2_short, -top)[-top:]\n",
    "top_PDTP_dt = np.argpartition(leakage2, -top)[-top:]\n",
    "print('decision tree: top 10 leakage ', np.sort(top_SHAPr_dt), np.sort(top_PDTP_dt))\n",
    "\n",
    "highest_SHAPr_rf = np.argmax(SHAPr_leakage_short)\n",
    "highest_PDTP_rf = np.argmax(leakage)\n",
    "print('random forest: max leakage ', highest_SHAPr_rf, highest_PDTP_rf)\n",
    "top_SHAPr_rf = np.argpartition(SHAPr_leakage_short, -top)[-top:]\n",
    "top_PDTP_rf = np.argpartition(leakage, -top)[-top:]\n",
    "print('random forest: top 10 leakage ', np.sort(top_SHAPr_rf), np.sort(top_PDTP_rf))\n",
    "\n",
    "highest_val_SHAPr_dt = np.max(SHAPr_leakage2_short)\n",
    "highest_indexes_shap = np.argwhere(SHAPr_leakage2_short == highest_val_SHAPr_dt)\n",
    "print(highest_indexes_shap)\n",
    "highest_val_PDTP_dt = np.max(leakage2)\n",
    "highest_indexes = np.argwhere(leakage2 == highest_val_PDTP_dt)\n",
    "print(highest_indexes)"
   ]
  },
  {
   "cell_type": "code",
   "execution_count": 24,
   "metadata": {},
   "outputs": [
    {
     "name": "stderr",
     "output_type": "stream",
     "text": [
      "<ipython-input-24-856bf38cbe31>:3: UserWarning: In Matplotlib 3.3 individual lines on a stem plot will be added as a LineCollection instead of individual lines. This significantly improves the performance of a stem plot. To remove this warning and switch to the new behaviour, set the \"use_line_collection\" keyword argument to True.\n",
      "  plt.stem(range(20), SHAPr_leakage_short[:20], label=\"pdtp\")\n"
     ]
    },
    {
     "data": {
      "image/png": "[encoded data removed]",
      "text/plain": [
       "<Figure size 432x288 with 1 Axes>"
      ]
     },
     "metadata": {
      "needs_background": "light"
     },
     "output_type": "display_data"
    }
   ],
   "source": [
    "import matplotlib.pyplot as plt\n",
    "\n",
    "plt.stem(range(20), SHAPr_leakage_short[:20], label=\"shap\")\n",
    "plt.xticks(range(20))\n",
    "plt.show()"
   ]
  },
  {
   "cell_type": "code",
   "execution_count": 26,
   "metadata": {},
   "outputs": [
    {
     "name": "stderr",
     "output_type": "stream",
     "text": [
      "<ipython-input-26-7e92eecf8377>:1: UserWarning: In Matplotlib 3.3 individual lines on a stem plot will be added as a LineCollection instead of individual lines. This significantly improves the performance of a stem plot. To remove this warning and switch to the new behaviour, set the \"use_line_collection\" keyword argument to True.\n",
      "  plt.stem(range(20), leakage[:20], label=\"shap\")\n"
     ]
    },
    {
     "data": {
      "image/png": "[encoded data removed]",
      "text/plain": [
       "<Figure size 432x288 with 1 Axes>"
      ]
     },
     "metadata": {
      "needs_background": "light"
     },
     "output_type": "display_data"
    }
   ],
   "source": [
    "plt.stem(range(20), leakage[:20], label=\"pdtp\")\n",
    "plt.xticks(range(20))\n",
    "plt.ylim(1, 1.7)\n",
    "plt.show()"
   ]
  },
  {
   "cell_type": "code",
   "execution_count": 32,
   "metadata": {},
   "outputs": [
    {
     "name": "stderr",
     "output_type": "stream",
     "text": [
      "<ipython-input-32-96c6915764c1>:1: UserWarning: In Matplotlib 3.3 individual lines on a stem plot will be added as a LineCollection instead of individual lines. This significantly improves the performance of a stem plot. To remove this warning and switch to the new behaviour, set the \"use_line_collection\" keyword argument to True.\n",
      "  plt.stem(range(20), SHAPr_leakage2_short[:20], label=\"pdtp\")\n"
     ]
    },
    {
     "data": {
      "image/png": "[encoded data removed]",
      "text/plain": [
       "<Figure size 432x288 with 1 Axes>"
      ]
     },
     "metadata": {
      "needs_background": "light"
     },
     "output_type": "display_data"
    }
   ],
   "source": [
    "plt.stem(range(20), SHAPr_leakage2_short[:20], label=\"shap\")\n",
    "plt.xticks(range(20))\n",
    "plt.ylim(0.08, 0.17)\n",
    "plt.show()"
   ]
  },
  {
   "cell_type": "code",
   "execution_count": 29,
   "metadata": {},
   "outputs": [
    {
     "name": "stderr",
     "output_type": "stream",
     "text": [
      "<ipython-input-29-6a8e0657f77c>:1: UserWarning: In Matplotlib 3.3 individual lines on a stem plot will be added as a LineCollection instead of individual lines. This significantly improves the performance of a stem plot. To remove this warning and switch to the new behaviour, set the \"use_line_collection\" keyword argument to True.\n",
      "  plt.stem(range(20), leakage2[:20], label=\"shap\")\n"
     ]
    },
    {
     "data": {
      "image/png": "[encoded data removed]",
      "text/plain": [
       "<Figure size 432x288 with 1 Axes>"
      ]
     },
     "metadata": {
      "needs_background": "light"
     },
     "output_type": "display_data"
    }
   ],
   "source": [
    "plt.stem(range(20), leakage2[:20], label=\"pdtp\")\n",
    "plt.xticks(range(20))\n",
    "plt.ylim(0.5, 3)\n",
    "plt.show()"
   ]
  },
  {
   "cell_type": "code",
   "execution_count": null,
   "metadata": {},
   "outputs": [],
   "source": []
  }
 ],
 "metadata": {
  "kernelspec": {
   "display_name": "Python 3",
   "language": "python",
   "name": "python3"
  },
  "language_info": {
   "codemirror_mode": {
    "name": "ipython",
    "version": 3
   },
   "file_extension": ".py",
   "mimetype": "text/x-python",
   "name": "python",
   "nbconvert_exporter": "python",
   "pygments_lexer": "ipython3",
   "version": "3.8.3"
  }
 },
 "nbformat": 4,
 "nbformat_minor": 4
}
