{
 "cells": [
  {
   "cell_type": "code",
   "execution_count": 1,
   "metadata": {},
   "outputs": [],
   "source": [
    "import os\n",
    "import sys\n",
    "sys.path.insert(0, os.path.abspath('..'))\n",
    "\n",
    "import numpy as np\n",
    "\n",
    "from art.metrics import PDTP, SHAPr\n",
    "from art.utils import load_nursery\n",
    "\n",
    "from sklearn.ensemble import RandomForestClassifier\n",
    "from sklearn.tree import DecisionTreeClassifier\n",
    "from art.estimators.classification.scikitlearn import ScikitlearnRandomForestClassifier, ScikitlearnDecisionTreeClassifier\n",
    "\n",
    "(x_train, y_train), (x_test, y_test), _, _ = load_nursery(test_set=0.5)\n",
    "\n",
    "model = RandomForestClassifier()\n",
    "model.fit(x_train, y_train)\n",
    "extra_model = RandomForestClassifier()\n",
    "\n",
    "art_classifier = ScikitlearnRandomForestClassifier(model)\n",
    "extra_classifier = ScikitlearnRandomForestClassifier(extra_model)\n",
    "\n",
    "num_samples = 100"
   ]
  },
  {
   "cell_type": "code",
   "execution_count": 2,
   "metadata": {},
   "outputs": [
    {
     "name": "stdout",
     "output_type": "stream",
     "text": [
      "Average PDTP leakage random forest:  18.314\n",
      "Max PDTP leakage random forest:  28.0\n"
     ]
    }
   ],
   "source": [
    "indexes = np.array(range(num_samples))\n",
    "leakage, _, _ = PDTP(art_classifier, extra_classifier, x_train, y_train, indexes=indexes)\n",
    "\n",
    "print(\"Average PDTP leakage random forest: \", np.average(leakage))\n",
    "print(\"Max PDTP leakage random forest: \", np.max(leakage))"
   ]
  },
  {
   "cell_type": "code",
   "execution_count": 3,
   "metadata": {},
   "outputs": [],
   "source": [
    "model2 = DecisionTreeClassifier()\n",
    "model2.fit(x_train, y_train)\n",
    "extra_model2 = DecisionTreeClassifier()\n",
    "\n",
    "art_classifier2 = ScikitlearnDecisionTreeClassifier(model2)\n",
    "extra_classifier2 = ScikitlearnDecisionTreeClassifier(extra_model2)"
   ]
  },
  {
   "cell_type": "code",
   "execution_count": 4,
   "metadata": {},
   "outputs": [
    {
     "name": "stdout",
     "output_type": "stream",
     "text": [
      "Average PDTP leakage decision tree:  1.0\n",
      "Max PDTP leakage decision tree:  1.0\n"
     ]
    }
   ],
   "source": [
    "leakage2, _, _ = PDTP(art_classifier2, extra_classifier2, x_train, y_train, indexes=indexes, num_iter=1)\n",
    "print(\"Average PDTP leakage decision tree: \", np.average(leakage2))\n",
    "print(\"Max PDTP leakage decision tree: \", np.max(leakage2))"
   ]
  },
  {
   "cell_type": "code",
   "execution_count": 5,
   "metadata": {},
   "outputs": [
    {
     "name": "stdout",
     "output_type": "stream",
     "text": [
      "Average SHAPr leakage random forest:  0.9749923\n",
      "Max SHAPr leakage random forest:  2.5007792\n",
      "Average SHAPr leakage decision tree:  0.9819389\n",
      "Max SHAPr leakage decision tree:  1.0004631\n"
     ]
    }
   ],
   "source": [
    "SHAPr_leakage = SHAPr(art_classifier, x_train, y_train, x_test, y_test)\n",
    "print(\"Average SHAPr leakage random forest: \", np.average(SHAPr_leakage))\n",
    "print(\"Max SHAPr leakage random forest: \", np.max(SHAPr_leakage))\n",
    "\n",
    "SHAPr_leakage2 = SHAPr(art_classifier2, x_train, y_train, x_test, y_test)\n",
    "print(\"Average SHAPr leakage decision tree: \", np.average(SHAPr_leakage2))\n",
    "print(\"Max SHAPr leakage decision tree: \", np.max(SHAPr_leakage2))"
   ]
  },
  {
   "cell_type": "code",
   "execution_count": 10,
   "metadata": {},
   "outputs": [
    {
     "data": {
      "image/png": "[encoded data removed]",
      "text/plain": [
       "<Figure size 432x288 with 1 Axes>"
      ]
     },
     "metadata": {
      "needs_background": "light"
     },
     "output_type": "display_data"
    }
   ],
   "source": [
    "import matplotlib.pyplot as plt\n",
    "\n",
    "plt.plot(range(20), leakage[:20] / 20, label=\"pdtp\", color=\"blue\")\n",
    "plt.plot(range(20), SHAPr_leakage[:20], label=\"shap\", color=\"green\")\n",
    "plt.xticks(range(20))\n",
    "plt.ylim(0.8, 1.3)\n",
    "plt.show()"
   ]
  },
  {
   "cell_type": "code",
   "execution_count": 11,
   "metadata": {},
   "outputs": [
    {
     "data": {
      "image/png": "[encoded data removed]",
      "text/plain": [
       "<Figure size 432x288 with 1 Axes>"
      ]
     },
     "metadata": {
      "needs_background": "light"
     },
     "output_type": "display_data"
    }
   ],
   "source": [
    "plt.plot(range(20), leakage2[:20], label=\"pdtp\")\n",
    "plt.plot(range(20), SHAPr_leakage2[:20], label=\"shap\", color=\"green\")\n",
    "plt.xticks(range(20))\n",
    "plt.ylim(0.8, 1.3)\n",
    "plt.show()"
   ]
  },
  {
   "cell_type": "code",
   "execution_count": 12,
   "metadata": {},
   "outputs": [
    {
     "name": "stdout",
     "output_type": "stream",
     "text": [
      "0.732942266131522\n",
      "0.5924668107440568\n",
      "0.6627045384377894\n"
     ]
    }
   ],
   "source": [
    "from art.attacks.inference.membership_inference import MembershipInferenceBlackBox\n",
    "\n",
    "attack_train_ratio = 0.5\n",
    "attack_train_size = int(len(x_train) * attack_train_ratio)\n",
    "attack_test_size = int(len(x_test) * attack_train_ratio)\n",
    "\n",
    "# random forest\n",
    "bb_attack = MembershipInferenceBlackBox(art_classifier)\n",
    "\n",
    "# train attack model\n",
    "bb_attack.fit(x_train[attack_train_size:], y_train[attack_train_size:],\n",
    "              x_test[attack_test_size:], y_test[attack_test_size:])\n",
    "\n",
    "# get inferred values\n",
    "inferred_train_bb = bb_attack.infer(x_train[:attack_train_size], y_train[:attack_train_size])\n",
    "inferred_test_bb = bb_attack.infer(x_test[:attack_test_size], y_test[:attack_test_size])\n",
    "# check accuracy\n",
    "train_acc = np.sum(inferred_train_bb) / len(inferred_train_bb)\n",
    "test_acc = 1 - (np.sum(inferred_test_bb) / len(inferred_test_bb))\n",
    "acc = (train_acc * len(inferred_train_bb) + test_acc * len(inferred_test_bb)) / (len(inferred_train_bb) + len(inferred_test_bb))\n",
    "print(train_acc)\n",
    "print(test_acc)\n",
    "print(acc)"
   ]
  },
  {
   "cell_type": "code",
   "execution_count": 13,
   "metadata": {},
   "outputs": [
    {
     "name": "stderr",
     "output_type": "stream",
     "text": [
      "<ipython-input-13-77e653c073b2>:2: UserWarning: In Matplotlib 3.3 individual lines on a stem plot will be added as a LineCollection instead of individual lines. This significantly improves the performance of a stem plot. To remove this warning and switch to the new behaviour, set the \"use_line_collection\" keyword argument to True.\n",
      "  plt.stem(range(20), SHAPr_leakage[:20], label=\"shap\", linefmt=\"green\")\n",
      "<ipython-input-13-77e653c073b2>:3: UserWarning: In Matplotlib 3.3 individual lines on a stem plot will be added as a LineCollection instead of individual lines. This significantly improves the performance of a stem plot. To remove this warning and switch to the new behaviour, set the \"use_line_collection\" keyword argument to True.\n",
      "  plt.stem(range(20), inferred_train_bb[:20], label=\"mem\", linefmt=\"red\")\n",
      "/Users/abigailt/opt/anaconda3/lib/python3.8/site-packages/numpy/core/shape_base.py:65: VisibleDeprecationWarning: Creating an ndarray from ragged nested sequences (which is a list-or-tuple of lists-or-tuples-or ndarrays with different lengths or shapes) is deprecated. If you meant to do this, you must specify 'dtype=object' when creating the ndarray.\n",
      "  ary = asanyarray(ary)\n"
     ]
    },
    {
     "data": {
      "image/png": "[encoded data removed]",
      "text/plain": [
       "<Figure size 432x288 with 1 Axes>"
      ]
     },
     "metadata": {
      "needs_background": "light"
     },
     "output_type": "display_data"
    }
   ],
   "source": [
    "import matplotlib.pyplot as plt\n",
    "plt.stem(range(20), SHAPr_leakage[:20], label=\"shap\", linefmt=\"green\")\n",
    "plt.stem(range(20), inferred_train_bb[:20], label=\"mem\", linefmt=\"red\")\n",
    "plt.xticks(range(20))\n",
    "plt.ylim(0.8, 1.3)\n",
    "plt.show()"
   ]
  },
  {
   "cell_type": "code",
   "execution_count": 14,
   "metadata": {},
   "outputs": [
    {
     "name": "stdout",
     "output_type": "stream",
     "text": [
      "0.6384686631676443\n",
      "0.35412164248224764\n",
      "0.49629515282494596\n"
     ]
    }
   ],
   "source": [
    "# decision tree\n",
    "bb_attack2 = MembershipInferenceBlackBox(art_classifier2)\n",
    "\n",
    "# train attack model\n",
    "bb_attack2.fit(x_train[attack_train_size:], y_train[attack_train_size:],\n",
    "              x_test[attack_test_size:], y_test[attack_test_size:])\n",
    "\n",
    "# get inferred values\n",
    "inferred_train_bb2 = bb_attack2.infer(x_train[:attack_train_size], y_train[:attack_train_size])\n",
    "inferred_test_bb2 = bb_attack2.infer(x_test[:attack_test_size], y_test[:attack_test_size])\n",
    "\n",
    "# check accuracy\n",
    "train_acc2 = np.sum(inferred_train_bb2) / len(inferred_train_bb2)\n",
    "test_acc2 = 1 - (np.sum(inferred_test_bb2) / len(inferred_test_bb2))\n",
    "acc2 = (train_acc2 * len(inferred_train_bb2) + test_acc2 * len(inferred_test_bb2)) / (len(inferred_train_bb2) + len(inferred_test_bb2))\n",
    "print(train_acc2)\n",
    "print(test_acc2)\n",
    "print(acc2)"
   ]
  },
  {
   "cell_type": "code",
   "execution_count": 15,
   "metadata": {},
   "outputs": [],
   "source": [
    "inferred_train_bb2_prob = bb_attack2.infer(x_train[:attack_train_size], y_train[:attack_train_size], probabilities=True)"
   ]
  },
  {
   "cell_type": "code",
   "execution_count": 16,
   "metadata": {},
   "outputs": [
    {
     "name": "stderr",
     "output_type": "stream",
     "text": [
      "<ipython-input-16-6195814a7385>:1: UserWarning: In Matplotlib 3.3 individual lines on a stem plot will be added as a LineCollection instead of individual lines. This significantly improves the performance of a stem plot. To remove this warning and switch to the new behaviour, set the \"use_line_collection\" keyword argument to True.\n",
      "  plt.stem(range(20), SHAPr_leakage2[:20], label=\"shap\", linefmt=\"green\")\n",
      "<ipython-input-16-6195814a7385>:2: UserWarning: In Matplotlib 3.3 individual lines on a stem plot will be added as a LineCollection instead of individual lines. This significantly improves the performance of a stem plot. To remove this warning and switch to the new behaviour, set the \"use_line_collection\" keyword argument to True.\n",
      "  plt.stem(range(20), inferred_train_bb2[:20], label=\"mem\", linefmt=\"red\")\n",
      "/Users/abigailt/opt/anaconda3/lib/python3.8/site-packages/numpy/core/shape_base.py:65: VisibleDeprecationWarning: Creating an ndarray from ragged nested sequences (which is a list-or-tuple of lists-or-tuples-or ndarrays with different lengths or shapes) is deprecated. If you meant to do this, you must specify 'dtype=object' when creating the ndarray.\n",
      "  ary = asanyarray(ary)\n"
     ]
    },
    {
     "data": {
      "image/png": "[encoded data removed]",
      "text/plain": [
       "<Figure size 432x288 with 1 Axes>"
      ]
     },
     "metadata": {
      "needs_background": "light"
     },
     "output_type": "display_data"
    }
   ],
   "source": [
    "plt.stem(range(20), SHAPr_leakage2[:20], label=\"shap\", linefmt=\"green\")\n",
    "plt.stem(range(20), inferred_train_bb2[:20], label=\"mem\", linefmt=\"red\")\n",
    "plt.xticks(range(20))\n",
    "plt.ylim(0.8, 1.3)\n",
    "plt.show()"
   ]
  },
  {
   "cell_type": "code",
   "execution_count": 17,
   "metadata": {},
   "outputs": [
    {
     "name": "stdout",
     "output_type": "stream",
     "text": [
      "(-0.12445306614030245, 0.21731974202040308)\n"
     ]
    }
   ],
   "source": [
    "import scipy\n",
    "\n",
    "print(scipy.stats.pearsonr(SHAPr_leakage[:num_samples], leakage))"
   ]
  }
 ],
 "metadata": {
  "kernelspec": {
   "display_name": "Python 3",
   "language": "python",
   "name": "python3"
  },
  "language_info": {
   "codemirror_mode": {
    "name": "ipython",
    "version": 3
   },
   "file_extension": ".py",
   "mimetype": "text/x-python",
   "name": "python",
   "nbconvert_exporter": "python",
   "pygments_lexer": "ipython3",
   "version": "3.8.3"
  }
 },
 "nbformat": 4,
 "nbformat_minor": 4
}
