{
  "cells": [
    {
      "attachments": {},
      "cell_type": "markdown",
      "id": "txooXPfhaCK0",
      "metadata": {
        "id": "txooXPfhaCK0"
      },
      "source": [
        "# ART GRAPHITE Whitebox Attack"
      ]
    },
    {
      "attachments": {},
      "cell_type": "markdown",
      "id": "CS3f9y-iq2rW",
      "metadata": {
        "id": "CS3f9y-iq2rW"
      },
      "source": [
        "Install Kornia, an open source Differentiable Computer Vision Library for PyTorch\n"
      ]
    },
    {
      "cell_type": "code",
      "execution_count": null,
      "id": "Xnp0CXChiuI1",
      "metadata": {
        "id": "Xnp0CXChiuI1"
      },
      "outputs": [],
      "source": [
        "pip install kornia"
      ]
    },
    {
      "attachments": {},
      "cell_type": "markdown",
      "id": "ym2ZL1AEqzqM",
      "metadata": {
        "id": "ym2ZL1AEqzqM"
      },
      "source": [
        "Setup and load the data and train a model to test on."
      ]
    },
    {
      "cell_type": "code",
      "execution_count": 7,
      "id": "AO9XssuBaCK6",
      "metadata": {
        "colab": {
          "base_uri": "https://localhost:8080/"
        },
        "id": "AO9XssuBaCK6",
        "outputId": "0853bbe9-73e3-47ff-c2da-625db063dc6f"
      },
      "outputs": [
        {
          "name": "stdout",
          "output_type": "stream",
          "text": [
            "Accuracy on benign test examples: 97.36%\n"
          ]
        }
      ],
      "source": [
        "import torch\n",
        "import torch.nn as nn\n",
        "import torch.nn.functional as F\n",
        "import torch.optim as optim\n",
        "import matplotlib.pyplot as plt\n",
        "import numpy as np\n",
        "\n",
        "from art.attacks.evasion import GRAPHITEWhiteboxPyTorch\n",
        "from art.estimators.classification import PyTorchClassifier\n",
        "from art.utils import load_mnist\n",
        "\n",
        "\n",
        "# Step 1: Load the MNIST dataset\n",
        "\n",
        "(x_train, y_train), (x_test, y_test), min_pixel_value, max_pixel_value = load_mnist()\n",
        "\n",
        "# Step 1a: Swap axes to PyTorch's NCHW format\n",
        "\n",
        "x_train = np.transpose(x_train, (0, 3, 1, 2)).astype(np.float32)\n",
        "x_test = np.transpose(x_test, (0, 3, 1, 2)).astype(np.float32)\n",
        "\n",
        "# Step 2: Create the model\n",
        "\n",
        "model = nn.Sequential(\n",
        "    nn.Conv2d(1, 4, 5), nn.ReLU(), nn.MaxPool2d(2, 2),\n",
        "    nn.Conv2d(4, 10, 5), nn.ReLU(), nn.MaxPool2d(2, 2),\n",
        "    nn.Flatten(),\n",
        "    nn.Linear(4*4*10, 100),\n",
        "    nn.Linear(100, 10)\n",
        ")\n",
        "# Step 2a: Define the loss function and the optimizer\n",
        "\n",
        "criterion = nn.CrossEntropyLoss()\n",
        "optimizer = optim.Adam(model.parameters(), lr=0.01)\n",
        "\n",
        "# Step 3: Create the ART classifier\n",
        "\n",
        "classifier = PyTorchClassifier(\n",
        "    model=model,\n",
        "    clip_values=(min_pixel_value, max_pixel_value),\n",
        "    loss=criterion,\n",
        "    optimizer=optimizer,\n",
        "    input_shape=(1, 28, 28),\n",
        "    nb_classes=10,\n",
        ")\n",
        "\n",
        "# Step 4: Train the ART classifier\n",
        "\n",
        "classifier.fit(x_train, y_train, batch_size=64, nb_epochs=3)\n",
        "\n",
        "# Step 5: Evaluate the ART classifier on benign test examples\n",
        "\n",
        "predictions = classifier.predict(x_test)\n",
        "accuracy = np.sum(np.argmax(predictions, axis=1) == np.argmax(y_test, axis=1)) / len(y_test)\n",
        "print(\"Accuracy on benign test examples: {}%\".format(accuracy * 100))"
      ]
    },
    {
      "attachments": {},
      "cell_type": "markdown",
      "id": "wsOpmCgAaCK9",
      "metadata": {
        "id": "wsOpmCgAaCK9"
      },
      "source": [
        "# Get Init Image\n",
        "\n",
        "Second, load an initialization image to attack."
      ]
    },
    {
      "cell_type": "code",
      "execution_count": 8,
      "id": "qAKzUShfaCK9",
      "metadata": {
        "colab": {
          "base_uri": "https://localhost:8080/",
          "height": 466
        },
        "id": "qAKzUShfaCK9",
        "outputId": "3202e365-e0db-425e-f974-0ae9b656b4d0"
      },
      "outputs": [
        {
          "name": "stdout",
          "output_type": "stream",
          "text": [
            "Init image is:  7\n"
          ]
        },
        {
          "data": {
            "image/png": "[encoded data removed]",
            "text/plain": [
              "<Figure size 640x480 with 1 Axes>"
            ]
          },
          "metadata": {},
          "output_type": "display_data"
        },
        {
          "name": "stdout",
          "output_type": "stream",
          "text": [
            "Target label is:  [0. 0. 1. 0. 0. 0. 0. 0. 0. 0.]\n"
          ]
        }
      ],
      "source": [
        "init_image = x_test[0, :, :, :]\n",
        "\n",
        "print(\"Init image is: \", np.argmax(classifier.predict(np.array([init_image]))[0]))\n",
        "plt.imshow((init_image.squeeze() * 255).astype(np.uint))\n",
        "plt.show()\n",
        "\n",
        "print(\"Target label is: \", y_test[1])"
      ]
    },
    {
      "attachments": {},
      "cell_type": "markdown",
      "id": "wvslQXLWaCK-",
      "metadata": {
        "id": "wvslQXLWaCK-"
      },
      "source": [
        "# Run GRAPHITE Whitebox Attack\n",
        "\n",
        "Finally, run an attack on a GRAHPITEWhiteboxPyTorch instance. We set the network size to 28 x 28 for MNIST and set the inner EoT PGD steps to 50. The attack is shown at the end."
      ]
    },
    {
      "cell_type": "code",
      "execution_count": 9,
      "id": "KSbz8rOhaCK-",
      "metadata": {
        "colab": {
          "base_uri": "https://localhost:8080/",
          "height": 466
        },
        "id": "KSbz8rOhaCK-",
        "outputId": "ee6767ce-7c5c-47c7-bb84-cf859f0c04b6",
        "scrolled": true
      },
      "outputs": [
        {
          "name": "stdout",
          "output_type": "stream",
          "text": [
            "(1, 1, 28, 28)\n"
          ]
        },
        {
          "data": {
            "text/plain": [
              "<matplotlib.image.AxesImage at 0x7f737d975780>"
            ]
          },
          "execution_count": 9,
          "metadata": {},
          "output_type": "execute_result"
        },
        {
          "data": {
            "image/png": "[encoded data removed]",
            "text/plain": [
              "<Figure size 640x480 with 1 Axes>"
            ]
          },
          "metadata": {},
          "output_type": "display_data"
        }
      ],
      "source": [
        "# Step 6: Generate adversarial test examples\n",
        "attack = GRAPHITEWhiteboxPyTorch(\n",
        "    classifier,\n",
        "    (28, 28),\n",
        "    patch_removal_size = 4,\n",
        "    patch_removal_interval = 1,\n",
        "    steps = 50\n",
        ")\n",
        "\n",
        "print(x_test[0, :, :, :][np.newaxis, :, :, :].shape)\n",
        "x_test_adv = attack.generate(x=x_test[0, :, :, :][np.newaxis, :, :, :], y=y_test[1][np.newaxis, :], mask=None)\n",
        "plt.imshow(x_test_adv[0,...].squeeze())\n"
      ]
    }
  ],
  "metadata": {
    "colab": {
      "provenance": []
    },
    "kernelspec": {
      "display_name": "Python 3",
      "language": "python",
      "name": "python3"
    },
    "language_info": {
      "codemirror_mode": {
        "name": "ipython",
        "version": 3
      },
      "file_extension": ".py",
      "mimetype": "text/x-python",
      "name": "python",
      "nbconvert_exporter": "python",
      "pygments_lexer": "ipython3",
      "version": "3.8.10"
    }
  },
  "nbformat": 4,
  "nbformat_minor": 5
}
